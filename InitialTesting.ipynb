{
 "cells": [
  {
   "cell_type": "code",
   "execution_count": 156,
   "metadata": {},
   "outputs": [],
   "source": [
    "import warnings\n",
    "\n",
    "import pandas as pd\n",
    "import numpy as np\n",
    "import scipy.io as sio\n",
    "\n",
    "pd.set_option('display.max_columns', None)\n",
    "\n",
    "from cmlreaders import CMLReader, get_data_index"
   ]
  },
  {
   "cell_type": "code",
   "execution_count": 105,
   "metadata": {},
   "outputs": [],
   "source": [
    "df = get_data_index('r1')\n",
    "df = df[df['experiment']=='TH1']\n",
    "subjects = df[['subject', 'montage', 'localization', 'experiment']].drop_duplicates()\n",
    "subjects.index = range(len(subjects))"
   ]
  },
  {
   "cell_type": "code",
   "execution_count": 31,
   "metadata": {},
   "outputs": [],
   "source": [
    "def subject_id(subject, montage):\n",
    "    return (subject if montage == 0\n",
    "                else f\"{subject}_{int(montage)}\")"
   ]
  },
  {
   "cell_type": "code",
   "execution_count": 35,
   "metadata": {},
   "outputs": [],
   "source": [
    "def load_matlab_contacts(subject, montage):\n",
    "    \"\"\" This is more consistent than cmlreaders version which breaks\n",
    "        sometimes for no reason. Its also a lot more obvious what\n",
    "        is going on whereas with cmlreaders its kinda a mystery :)\n",
    "    \"\"\"\n",
    "    subj_str = subject_id(subject, montage)\n",
    "    path = f'/data/eeg/{subj_str}/tal/{subj_str}_talLocs_database_monopol.mat'\n",
    "    contacts = pd.DataFrame(sio.loadmat(path, squeeze_me=True)['talStruct'])\n",
    "    \n",
    "    if subject=='R1059J' and montage==1:\n",
    "        # this contact is a duplicate of contact 114 \n",
    "        contacts = contacts[contacts['channel'] != 113]\n",
    "        contacts.index = range(len(contacts))\n",
    "    \n",
    "    return contacts"
   ]
  },
  {
   "cell_type": "code",
   "execution_count": 126,
   "metadata": {},
   "outputs": [],
   "source": [
    "def load_contacts(**subject_series):\n",
    "    \n",
    "    reader = CMLReader(**subject_series)\n",
    "    contacts = reader.load('contacts')\n",
    "    \n",
    "    matlab_contacts = load_matlab_contacts(\n",
    "        subject_series['subject'], subject_series['montage'])\n",
    "    for i in range(1,6):\n",
    "        contacts[f'Loc{i}'] = matlab_contacts[f'Loc{i}']\n",
    "    \n",
    "    if not 'stein.region' in contacts:\n",
    "        contacts['stein.region'] = np.nan\n",
    "        \n",
    "        if 'locTag' in matlab_contacts:\n",
    "            loctags =  np.array([t if len(t)>0 else np.nan\n",
    "                        for t in matlab_contacts['locTag']])\n",
    "            contacts['stein.region'] = loctags\n",
    "\n",
    "    contacts['stein.hemi'] = [np.nan if pd.isnull(t) or t == 'nan'\n",
    "                              else t.split(' ')[0]\n",
    "                              for t in contacts['stein.region']]\n",
    "    contacts['stein.name'] = [np.nan if pd.isnull(t) or t == 'nan'\n",
    "                                else ' '.join(t.split(' ')[1:])\n",
    "                                for t in contacts['stein.region']]\n",
    "    \n",
    "    return contacts"
   ]
  },
  {
   "cell_type": "code",
   "execution_count": 127,
   "metadata": {},
   "outputs": [],
   "source": [
    "warnings.filterwarnings('ignore')"
   ]
  },
  {
   "cell_type": "code",
   "execution_count": 136,
   "metadata": {},
   "outputs": [],
   "source": [
    "rois = ['Left EC', 'Right EC', 'Left CA1', 'Right CA1']\n",
    "\n",
    "roi_locs = {}\n",
    "for roi in rois:\n",
    "    roi_locs[roi] = []\n",
    "\n",
    "for i, subject in subjects.iterrows():\n",
    "    contacts = load_contacts(**subject)\n",
    "    for roi in rois:\n",
    "        if roi in contacts['stein.region'].unique():\n",
    "            roi_locs[roi].append(True)\n",
    "        else:\n",
    "            roi_locs[roi].append(False)\n",
    "\n",
    "for roi in rois:\n",
    "    roi_locs[roi] = np.array(roi_locs[roi])\n"
   ]
  },
  {
   "cell_type": "code",
   "execution_count": 145,
   "metadata": {},
   "outputs": [],
   "source": [
    "subjects = subjects.loc[roi_locs['Right EC']&roi_locs['Right CA1']&roi_locs['Left EC']&roi_locs['Left CA1']]\n",
    "subjects.index = range(len(subjects))"
   ]
  },
  {
   "cell_type": "code",
   "execution_count": 147,
   "metadata": {},
   "outputs": [],
   "source": [
    "subject = subjects.iloc[0]"
   ]
  },
  {
   "cell_type": "code",
   "execution_count": 151,
   "metadata": {},
   "outputs": [],
   "source": [
    "reader = CMLReader(**subject, session=0)"
   ]
  },
  {
   "cell_type": "code",
   "execution_count": 152,
   "metadata": {},
   "outputs": [],
   "source": [
    "events = reader.load('events')"
   ]
  },
  {
   "cell_type": "code",
   "execution_count": 154,
   "metadata": {},
   "outputs": [],
   "source": [
    "events = events[events['type']=='CHEST']"
   ]
  },
  {
   "cell_type": "code",
   "execution_count": 162,
   "metadata": {},
   "outputs": [],
   "source": [
    "recalled = events[events['recalled']]\n",
    "not_recalled = events[(~events['recalled'])\n",
    "                      & ~(events['item_name']=='')\n",
    "                     ]\n",
    "empty = events[events['item_name']=='']"
   ]
  },
  {
   "cell_type": "code",
   "execution_count": null,
   "metadata": {},
   "outputs": [],
   "source": [
    "def load_eeg(events, channels, subject_series\n",
    "            \\\\\\\\\\\\\\\\\\\\\\\\\\\\\\):"
   ]
  }
 ],
 "metadata": {
  "kernelspec": {
   "display_name": "py3_env",
   "language": "python",
   "name": "py3_env"
  },
  "language_info": {
   "codemirror_mode": {
    "name": "ipython",
    "version": 3
   },
   "file_extension": ".py",
   "mimetype": "text/x-python",
   "name": "python",
   "nbconvert_exporter": "python",
   "pygments_lexer": "ipython3",
   "version": "3.6.10"
  }
 },
 "nbformat": 4,
 "nbformat_minor": 4
}
