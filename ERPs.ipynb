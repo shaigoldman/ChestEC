{
 "cells": [
  {
   "cell_type": "code",
   "execution_count": 1,
   "metadata": {},
   "outputs": [
    {
     "name": "stderr",
     "output_type": "stream",
     "text": [
      "/home1/shai.goldman/anaconda2/envs/py3_env/lib/python3.6/site-packages/dask/config.py:168: YAMLLoadWarning: calling yaml.load() without Loader=... is deprecated, as the default Loader is unsafe. Please read https://msg.pyyaml.org/load for full details.\n",
      "  data = yaml.load(f.read()) or {}\n"
     ]
    }
   ],
   "source": [
    "import warnings\n",
    "\n",
    "import pandas as pd\n",
    "import numpy as np\n",
    "import xarray as xr\n",
    "\n",
    "from matplotlib import pyplot as plt\n",
    "from tqdm.notebook import tqdm\n",
    "\n",
    "from ptsa.data.timeseries import TimeSeries\n",
    "from cmlreaders import CMLReader, get_data_index"
   ]
  },
  {
   "cell_type": "code",
   "execution_count": 2,
   "metadata": {},
   "outputs": [],
   "source": [
    "import Reader\n",
    "import ComputePower"
   ]
  },
  {
   "cell_type": "code",
   "execution_count": 3,
   "metadata": {},
   "outputs": [],
   "source": [
    "pd.set_option('display.max_columns', None)"
   ]
  },
  {
   "cell_type": "code",
   "execution_count": 4,
   "metadata": {},
   "outputs": [],
   "source": [
    "warnings.filterwarnings('ignore')"
   ]
  },
  {
   "cell_type": "code",
   "execution_count": 5,
   "metadata": {},
   "outputs": [],
   "source": [
    "EXPERIMENT = 'TH1'\n",
    "EVENTS_TYPE = 'CHEST'\n",
    "REL_START=-2000#-2250\n",
    "REL_STOP=3500#3750\n",
    "BUFFER=3000\n",
    "FREQ_BAND=[1,3]"
   ]
  },
  {
   "cell_type": "code",
   "execution_count": 6,
   "metadata": {},
   "outputs": [],
   "source": [
    "def error_fill(xs, ys, err, color, label, axes=None):\n",
    "    \n",
    "    if axes == None:\n",
    "        plotter = plt\n",
    "    else:\n",
    "        plotter = axes\n",
    "    \n",
    "    plotter.fill_between(xs, ys-err, ys+err,\n",
    "                     alpha=.4, color=color)\n",
    "    plotter.plot(xs, ys, label=label, color=color)"
   ]
  },
  {
   "cell_type": "code",
   "execution_count": 7,
   "metadata": {},
   "outputs": [],
   "source": [
    "def get_roi_locs(subjects):\n",
    "\n",
    "    warnings.filterwarnings('ignore')\n",
    "\n",
    "    rois = ['Left EC', 'Right EC', 'Left CA1', 'Right CA1']\n",
    "\n",
    "    roi_locs = {}\n",
    "    for roi in rois:\n",
    "        roi_locs[roi] = []\n",
    "\n",
    "    for i, subject in subjects.iterrows():\n",
    "        contacts = Reader.load_contacts(**subject)\n",
    "        for roi in rois:\n",
    "            if roi in contacts['stein.region'].unique():\n",
    "                roi_locs[roi].append(True)\n",
    "            else:\n",
    "                roi_locs[roi].append(False)\n",
    "\n",
    "    for roi in rois:\n",
    "        roi_locs[roi] = np.array(roi_locs[roi])\n",
    "\n",
    "    return roi_locs"
   ]
  },
  {
   "cell_type": "code",
   "execution_count": 8,
   "metadata": {},
   "outputs": [],
   "source": [
    "def get_erps_1subj(subject_dict, region, freq_band=FREQ_BAND,\n",
    "                   events_type=EVENTS_TYPE, \n",
    "                   rel_start_ms=REL_START, rel_stop_ms=REL_STOP,\n",
    "                   window_size=500,\n",
    "                   buf_ms=BUFFER, resample_freq=None,\n",
    "                   transform='wavelet',\n",
    "                   **kwargs\n",
    "                  ):\n",
    "    \n",
    "    # get events\n",
    "    events = Reader.get_all_events(**subject_dict)\n",
    "    events = events[events['type']==events_type]\n",
    "    events.index = range(len(events))\n",
    "    \n",
    "    # get elecs\n",
    "    all_elecs = Reader.load_contacts(**subject_dict)\n",
    "    contacts = Reader.get_region_contacts(region, 'stein.region', all_elecs)\n",
    "    if len(contacts)==0:\n",
    "        raise ValueError(f\"subject {subject_dict} has no electrodes in region {region}\")\n",
    "    \n",
    "    # get baseline power\n",
    "#     basepow = ComputePower.get_basepow(events, freq_band, contacts, buf_ms,\n",
    "#                 subject_dict, **kwargs)\n",
    "    \n",
    "    # get powers\n",
    "    eeg = Reader.load_eeg(subject_dict, events, contacts, \n",
    "                          rel_start_ms=-2000, rel_stop_ms=3500,\n",
    "                          do_average_ref=False, \n",
    "                          buf_ms=buf_ms, resample_freq=resample_freq,\n",
    "                          **kwargs,\n",
    "                  )\n",
    "    \n",
    "    powers = ComputePower.compute_power(eeg, freq_band=freq_band, buf_ms=buf_ms,\n",
    "                                        window_size=window_size, transform=transform,\n",
    "                                        **kwargs)\n",
    "    \n",
    "    \n",
    "    #powers = ComputePower.zscore_powers(powers, basepow)\n",
    "    powers = ComputePower.zscore_old(powers)\n",
    "    \n",
    "    # split by recalled, not recalled, and empty chests\n",
    "    recalled_locs = events['recalled'].values\n",
    "    empty_locs = (events['item_name']=='').values\n",
    "    not_recalled_locs = ~(recalled_locs|empty_locs)\n",
    "    \n",
    "    # get powers accross events\n",
    "    rec_power = powers[recalled_locs].mean(dim='event')\n",
    "    nrec_power = powers[not_recalled_locs].mean(dim='event')\n",
    "    empty_power = powers[empty_locs].mean(dim='event')\n",
    "    \n",
    "    # get erps accross channels\n",
    "    rec_erp = rec_power.mean(dim='channel')\n",
    "    rec_sem = rec_power.std(dim='channel') / np.sqrt(rec_power.channel.size)\n",
    "\n",
    "    nrec_erp = nrec_power.mean(dim='channel')\n",
    "    nrec_sem = nrec_power.std(dim='channel') / np.sqrt(nrec_power.channel.size)\n",
    "\n",
    "    empty_erp = empty_power.mean(dim='channel')\n",
    "    empty_sem = empty_power.std(dim='channel') / np.sqrt(nrec_power.channel.size)\n",
    "\n",
    "    # done\n",
    "    return pd.DataFrame({'rec_erp': rec_erp, 'rec_sem': rec_sem,\n",
    "                         'nrec_erp': nrec_erp, 'nrec_sem': nrec_sem,\n",
    "                         'empty_erp': empty_erp, 'empty_sem': empty_sem, \n",
    "                         'samplerate': rec_power.samplerate.values[()],\n",
    "                         'window_size': window_size,\n",
    "                         'freq_band': str(freq_band)\n",
    "                        }, index=rec_erp.time)"
   ]
  },
  {
   "cell_type": "code",
   "execution_count": 9,
   "metadata": {},
   "outputs": [],
   "source": [
    "def get_erps(subjects, region, freq_band,\n",
    "             graphit=True, resample_freq=500,\n",
    "             window_size=500, **kwargs\n",
    "            ):\n",
    "\n",
    "    if graphit:\n",
    "        # set up graph on 1 subplot per subj\n",
    "        ncols = int(np.sqrt(len(subjects)))\n",
    "        nrows = int(np.ceil(len(subjects)/ncols))\n",
    "        fig, axes = plt.subplots(ncols=ncols, nrows=nrows, figsize=(15,15))\n",
    "        fig.tight_layout()\n",
    "\n",
    "    # store each subjects erps in these lists\n",
    "    all_recs = []\n",
    "    all_nrecs = []\n",
    "    all_emptys = []\n",
    "    subjects_with_data = []\n",
    "\n",
    "    # get each subject's erp\n",
    "    for i, subject in tqdm(subjects.iterrows(), total=len(subjects)):\n",
    "\n",
    "        try:\n",
    "            erps = get_erps_1subj(\n",
    "                subject_dict=subject,\n",
    "                region=region,\n",
    "                freq_band=freq_band,\n",
    "                resample_freq=resample_freq,\n",
    "                window_size=window_size,\n",
    "                **kwargs\n",
    "            )\n",
    "\n",
    "            all_recs.append(erps['rec_erp'])\n",
    "            all_nrecs.append(erps['nrec_erp'])\n",
    "            all_emptys.append(erps['empty_erp'])\n",
    "            subjects_with_data.append(\n",
    "                Reader.subject_id(subject['subject'], subject['montage']))\n",
    "\n",
    "            if graphit:\n",
    "                plot_erp(erps, axes=axes[i%nrows, int(i/nrows)], do_legend=False)\n",
    "        except (IndexError, ValueError):\n",
    "            continue\n",
    "            \n",
    "    if graphit:\n",
    "        plt.show()\n",
    "    \n",
    "    # concatenate erps accross subjects \n",
    "    recs = pd.concat(all_recs, axis=1)\n",
    "    recs = xr.DataArray(recs.values.transpose(),\n",
    "                        coords=[subjects_with_data, recs.index],\n",
    "                        dims = ['subject', 'time'])\n",
    "\n",
    "    nrecs = pd.concat(all_nrecs, axis=1)\n",
    "    nrecs = xr.DataArray(nrecs.values.transpose(),\n",
    "                        coords=[subjects_with_data, nrecs.index],\n",
    "                        dims = ['subject', 'time'])\n",
    "\n",
    "    emptys = pd.concat(all_emptys, axis=1)\n",
    "    emptys = xr.DataArray(emptys.values.transpose(),\n",
    "                        coords=[subjects_with_data, emptys.index],\n",
    "                        dims = ['subject', 'time'])\n",
    "    \n",
    "    # get erps accross subjects\n",
    "    rec_erp = recs.mean(dim='subject')\n",
    "    rec_sem = recs.std(dim='subject') / np.sqrt(recs.subject.size)\n",
    "\n",
    "    nrec_erp = nrecs.mean(dim='subject')\n",
    "    nrec_sem = nrecs.std(dim='subject') / np.sqrt(nrecs.subject.size)\n",
    "\n",
    "    empty_erp = emptys.mean(dim='subject')\n",
    "    empty_sem = emptys.std(dim='subject') / np.sqrt(emptys.subject.size)\n",
    "\n",
    "    # done\n",
    "    return pd.DataFrame({'rec_erp': rec_erp, 'rec_sem': rec_sem,\n",
    "                         'nrec_erp': nrec_erp, 'nrec_sem': nrec_sem,\n",
    "                         'empty_erp': empty_erp, 'empty_sem': empty_sem, \n",
    "                         'samplerate': resample_freq, 'window_size': window_size,\n",
    "                         'freq_band': f'{freq_band[0]}-{freq_band[1]}'\n",
    "                        }, index=rec_erp.time)"
   ]
  },
  {
   "cell_type": "code",
   "execution_count": 10,
   "metadata": {},
   "outputs": [],
   "source": [
    "def plot_erp(erps,\n",
    "             rel_start_ms=REL_START, rel_stop_ms=REL_STOP,\n",
    "             axes=None, do_legend=True):\n",
    "    \n",
    "    samplerate = erps['samplerate'].iloc[0]\n",
    "    freq_band = erps['freq_band'].iloc[0]\n",
    "    window_size = erps['window_size'].iloc[0]\n",
    "    \n",
    "    xs = erps.index\n",
    "    if window_size is not None:\n",
    "        xs -= window_size/2\n",
    "    xs /= 1000\n",
    "    \n",
    "    rec_color = 'firebrick'\n",
    "    nrec_color = 'steelblue'\n",
    "    empty_color = 'gray'\n",
    "    \n",
    "    if axes is None:\n",
    "        axes = plt.subplot()\n",
    "\n",
    "    error_fill(xs, erps['rec_erp'], erps['rec_sem'], color=rec_color, label='recalled', axes=axes)\n",
    "    error_fill(xs, erps['nrec_erp'], erps['nrec_sem'], color=nrec_color, label='not recalled', axes=axes)\n",
    "    error_fill(xs, erps['empty_erp'], erps['empty_sem'], color=empty_color, label='empty', axes=axes)\n",
    "\n",
    "    axes.axvline(0, color='k')\n",
    "    axes.axvline(1.5, color='k', linestyle=':') # item stops being displayed\n",
    "    axes.axhline(0, color='k', linestyle='--')\n",
    "    \n",
    "    axes.set_xlabel('time (ms)')\n",
    "    axes.set_ylabel(fr'Z(power) $\\emdash$ [{freq_band[0]}-{freq_band[1]}] Hz')\n",
    "\n",
    "    if do_legend:\n",
    "        axes.legend()\n",
    "        \n",
    "    axes.set_xlim((-2.5,4))"
   ]
  },
  {
   "cell_type": "code",
   "execution_count": 11,
   "metadata": {},
   "outputs": [],
   "source": [
    "df = get_data_index('r1')\n",
    "df = df[df['experiment']==EXPERIMENT]\n",
    "subjects = df[['subject', 'montage', 'localization', 'experiment']].drop_duplicates()\n",
    "subjects.index = range(len(subjects))"
   ]
  },
  {
   "cell_type": "code",
   "execution_count": 12,
   "metadata": {},
   "outputs": [],
   "source": [
    "region='Right CA1'"
   ]
  },
  {
   "cell_type": "code",
   "execution_count": 13,
   "metadata": {},
   "outputs": [],
   "source": [
    "df = get_data_index('r1')\n",
    "df = df[df['experiment']==EXPERIMENT]\n",
    "subjects = df[['subject', 'montage', 'localization', 'experiment']].drop_duplicates()\n",
    "subjects.index = range(len(subjects))"
   ]
  },
  {
   "cell_type": "code",
   "execution_count": 14,
   "metadata": {},
   "outputs": [
    {
     "data": {
      "application/vnd.jupyter.widget-view+json": {
       "model_id": "06d6a2b0cff1419da4e00b2d824081c4",
       "version_major": 2,
       "version_minor": 0
      },
      "text/plain": [
       "HBox(children=(FloatProgress(value=0.0, max=4.0), HTML(value='')))"
      ]
     },
     "metadata": {},
     "output_type": "display_data"
    },
    {
     "name": "stdout",
     "output_type": "stream",
     "text": [
      "\n"
     ]
    },
    {
     "ename": "TypeError",
     "evalue": "load_eeg() got multiple values for argument 'rel_start_ms'",
     "output_type": "error",
     "traceback": [
      "\u001b[0;31m---------------------------------------------------------------------------\u001b[0m",
      "\u001b[0;31mTypeError\u001b[0m                                 Traceback (most recent call last)",
      "\u001b[0;32m<ipython-input-14-0373ad8f7cd4>\u001b[0m in \u001b[0;36m<module>\u001b[0;34m\u001b[0m\n\u001b[1;32m      1\u001b[0m erps = get_erps(subjects.iloc[:4], region='Left CA1',\n\u001b[1;32m      2\u001b[0m                 \u001b[0mfreq_band\u001b[0m\u001b[0;34m=\u001b[0m\u001b[0;34m[\u001b[0m\u001b[0;36m1\u001b[0m\u001b[0;34m,\u001b[0m\u001b[0;36m3\u001b[0m\u001b[0;34m]\u001b[0m\u001b[0;34m,\u001b[0m \u001b[0mwindow_size\u001b[0m\u001b[0;34m=\u001b[0m\u001b[0;36m500\u001b[0m\u001b[0;34m,\u001b[0m\u001b[0;34m\u001b[0m\u001b[0;34m\u001b[0m\u001b[0m\n\u001b[0;32m----> 3\u001b[0;31m                 transform='wavelet', load_type='pairs')\n\u001b[0m\u001b[1;32m      4\u001b[0m \u001b[0mplot_erp\u001b[0m\u001b[0;34m(\u001b[0m\u001b[0merps\u001b[0m\u001b[0;34m)\u001b[0m\u001b[0;34m\u001b[0m\u001b[0;34m\u001b[0m\u001b[0m\n",
      "\u001b[0;32m<ipython-input-9-6208a657f216>\u001b[0m in \u001b[0;36mget_erps\u001b[0;34m(subjects, region, freq_band, graphit, resample_freq, window_size, **kwargs)\u001b[0m\n\u001b[1;32m     27\u001b[0m                 \u001b[0mresample_freq\u001b[0m\u001b[0;34m=\u001b[0m\u001b[0mresample_freq\u001b[0m\u001b[0;34m,\u001b[0m\u001b[0;34m\u001b[0m\u001b[0;34m\u001b[0m\u001b[0m\n\u001b[1;32m     28\u001b[0m                 \u001b[0mwindow_size\u001b[0m\u001b[0;34m=\u001b[0m\u001b[0mwindow_size\u001b[0m\u001b[0;34m,\u001b[0m\u001b[0;34m\u001b[0m\u001b[0;34m\u001b[0m\u001b[0m\n\u001b[0;32m---> 29\u001b[0;31m                 \u001b[0;34m**\u001b[0m\u001b[0mkwargs\u001b[0m\u001b[0;34m\u001b[0m\u001b[0;34m\u001b[0m\u001b[0m\n\u001b[0m\u001b[1;32m     30\u001b[0m             )\n\u001b[1;32m     31\u001b[0m \u001b[0;34m\u001b[0m\u001b[0m\n",
      "\u001b[0;32m<ipython-input-8-368cd06b6194>\u001b[0m in \u001b[0;36mget_erps_1subj\u001b[0;34m(subject_dict, region, freq_band, events_type, rel_start_ms, rel_stop_ms, window_size, buf_ms, resample_freq, transform, **kwargs)\u001b[0m\n\u001b[1;32m     28\u001b[0m                           \u001b[0mdo_average_ref\u001b[0m\u001b[0;34m=\u001b[0m\u001b[0;32mFalse\u001b[0m\u001b[0;34m,\u001b[0m\u001b[0;34m\u001b[0m\u001b[0;34m\u001b[0m\u001b[0m\n\u001b[1;32m     29\u001b[0m                           \u001b[0mbuf_ms\u001b[0m\u001b[0;34m=\u001b[0m\u001b[0mbuf_ms\u001b[0m\u001b[0;34m,\u001b[0m \u001b[0mresample_freq\u001b[0m\u001b[0;34m=\u001b[0m\u001b[0mresample_freq\u001b[0m\u001b[0;34m,\u001b[0m\u001b[0;34m\u001b[0m\u001b[0;34m\u001b[0m\u001b[0m\n\u001b[0;32m---> 30\u001b[0;31m                           \u001b[0;34m**\u001b[0m\u001b[0mkwargs\u001b[0m\u001b[0;34m,\u001b[0m\u001b[0;34m\u001b[0m\u001b[0;34m\u001b[0m\u001b[0m\n\u001b[0m\u001b[1;32m     31\u001b[0m                   )\n\u001b[1;32m     32\u001b[0m \u001b[0;34m\u001b[0m\u001b[0m\n",
      "\u001b[0;31mTypeError\u001b[0m: load_eeg() got multiple values for argument 'rel_start_ms'"
     ]
    },
    {
     "data": {
      "image/png": "[encoded data removed]",
      "text/plain": [
       "<Figure size 1080x1080 with 4 Axes>"
      ]
     },
     "metadata": {
      "needs_background": "light"
     },
     "output_type": "display_data"
    }
   ],
   "source": [
    "erps = get_erps(subjects.iloc[:4], region='Left CA1',\n",
    "                freq_band=[1,3], window_size=500,\n",
    "                transform='wavelet', load_type='pairs')\n",
    "plot_erp(erps)"
   ]
  },
  {
   "cell_type": "code",
   "execution_count": null,
   "metadata": {},
   "outputs": [],
   "source": [
    "if 0:\n",
    "    regions = ['Left CA1', 'Right CA1']\n",
    "    freq_bands = [[1,3], [3,10], [40,100]]\n",
    "\n",
    "    fig, axes = plt.subplots(nrows=len(freq_bands), ncols=len(regions))\n",
    "\n",
    "    for col, region in enumerate(regions):\n",
    "        for row, freq_band in enumerate(freq_bands):\n",
    "            ax = axes[col, row]\n",
    "\n",
    "            erps = get_erps(subjects, region=region, freq_band=freq_band, graphit=False)\n",
    "            plot_erp(erps, axes=ax)\n",
    "\n",
    "            if row == 0:\n",
    "                ax.title(region)"
   ]
  },
  {
   "cell_type": "code",
   "execution_count": null,
   "metadata": {},
   "outputs": [],
   "source": [
    "events"
   ]
  },
  {
   "cell_type": "code",
   "execution_count": null,
   "metadata": {},
   "outputs": [],
   "source": [
    "df = ter.exp_df('TH1')\n",
    "\n",
    "for i, row in df.iterrows():\n",
    "    print([key for key in row], end=' -> ')\n",
    "    try:\n",
    "        events = ter.get_events(**row, recalc=True)\n",
    "        print('Success!')\n",
    "        break\n",
    "    except FileNotFoundError as e:\n",
    "        print(e)"
   ]
  },
  {
   "cell_type": "code",
   "execution_count": null,
   "metadata": {},
   "outputs": [],
   "source": [
    "row"
   ]
  },
  {
   "cell_type": "code",
   "execution_count": null,
   "metadata": {},
   "outputs": [],
   "source": [
    "ter.get_events(subj='R1124J', montage=0, exp='TH1', session=1, recalc=False)"
   ]
  },
  {
   "cell_type": "code",
   "execution_count": null,
   "metadata": {},
   "outputs": [],
   "source": [
    "events"
   ]
  },
  {
   "cell_type": "code",
   "execution_count": null,
   "metadata": {},
   "outputs": [],
   "source": [
    "Reader.get_all_events(subject='R1124J', montage=0, experiment='TH1', session=1)"
   ]
  },
  {
   "cell_type": "code",
   "execution_count": null,
   "metadata": {},
   "outputs": [],
   "source": []
  }
 ],
 "metadata": {
  "kernelspec": {
   "display_name": "py3_env",
   "language": "python",
   "name": "py3_env"
  },
  "language_info": {
   "codemirror_mode": {
    "name": "ipython",
    "version": 3
   },
   "file_extension": ".py",
   "mimetype": "text/x-python",
   "name": "python",
   "nbconvert_exporter": "python",
   "pygments_lexer": "ipython3",
   "version": "3.6.10"
  }
 },
 "nbformat": 4,
 "nbformat_minor": 4
}
