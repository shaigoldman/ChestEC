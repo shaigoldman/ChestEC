{
 "cells": [
  {
   "cell_type": "code",
   "execution_count": null,
   "metadata": {},
   "outputs": [],
   "source": [
    "import warnings\n",
    "\n",
    "import pandas as pd\n",
    "import numpy as np\n",
    "\n",
    "from matplotlib import pyplot as plt\n",
    "from tqdm.notebook import tqdm\n",
    "\n",
    "from cmlreaders import CMLReader, get_data_index"
   ]
  },
  {
   "cell_type": "code",
   "execution_count": null,
   "metadata": {},
   "outputs": [],
   "source": [
    "import Reader\n",
    "import ComputePower\n",
    "import erps"
   ]
  },
  {
   "cell_type": "code",
   "execution_count": null,
   "metadata": {},
   "outputs": [],
   "source": [
    "pd.set_option('display.max_columns', None)"
   ]
  },
  {
   "cell_type": "code",
   "execution_count": null,
   "metadata": {},
   "outputs": [],
   "source": [
    "warnings.filterwarnings('ignore')"
   ]
  },
  {
   "cell_type": "code",
   "execution_count": null,
   "metadata": {},
   "outputs": [],
   "source": [
    "EXPERIMENT = 'TH1'"
   ]
  },
  {
   "cell_type": "code",
   "execution_count": null,
   "metadata": {},
   "outputs": [],
   "source": [
    "df = get_data_index('r1')\n",
    "df = df[df['experiment']==EXPERIMENT]\n",
    "subjects = df[['subject', 'montage', 'localization', 'experiment']].drop_duplicates()\n",
    "subjects.index = range(len(subjects))"
   ]
  },
  {
   "cell_type": "code",
   "execution_count": null,
   "metadata": {},
   "outputs": [],
   "source": [
    "# excluding these to match the patients used in the published paper\n",
    "exclude = ['R1132C', 'R1243T', 'R1244J','R1258T','R1230J','R1269E','R1259E','R1226D','R1214M',\n",
    "           'R1215M', 'R1233E', 'R1263C','R1160C','R1282C','R1227T','R1182C','R1184M','R1198M']\n",
    "subjects = subjects[~subjects['subject'].isin(exclude)]"
   ]
  },
  {
   "cell_type": "code",
   "execution_count": null,
   "metadata": {},
   "outputs": [],
   "source": [
    "ERPs = erps.get_erps(subjects, region='Left CA1', freq_band=[1,3], graphit=True,\n",
    "                            transform='wavelet', load_type='pairs', log_power=True\n",
    "               )"
   ]
  },
  {
   "cell_type": "code",
   "execution_count": null,
   "metadata": {},
   "outputs": [],
   "source": [
    "erps.plot_erp(ERPs)"
   ]
  },
  {
   "cell_type": "code",
   "execution_count": null,
   "metadata": {},
   "outputs": [],
   "source": [
    "if 0:\n",
    "    regions = ['Left CA1', 'Right CA1', 'Left EC', 'Right EC']\n",
    "    freq_bands = [[40,100], [3,10], [1,3]]\n",
    "\n",
    "    fig, axes = plt.subplots(nrows=len(freq_bands), ncols=len(regions), figsize=((20,20)))\n",
    "\n",
    "    for col, region in enumerate(regions):\n",
    "        for row, freq_band in enumerate(freq_bands):\n",
    "            ax = axes[row, col]\n",
    "\n",
    "            erps = get_erps(subjects, region=region, freq_band=freq_band, graphit=False,\n",
    "                            transform='wavelet', load_type='contacts', log_power=False\n",
    "                           )\n",
    "            plot_erp(erps, axes=ax)\n",
    "\n",
    "            if row == 0:\n",
    "                ax.set_title(region)\n",
    "    fig.savefig('temp.pdf', format='pdf')"
   ]
  },
  {
   "cell_type": "code",
   "execution_count": null,
   "metadata": {},
   "outputs": [],
   "source": []
  }
 ],
 "metadata": {
  "kernelspec": {
   "display_name": "py3_env",
   "language": "python",
   "name": "py3_env"
  },
  "language_info": {
   "codemirror_mode": {
    "name": "ipython",
    "version": 3
   },
   "file_extension": ".py",
   "mimetype": "text/x-python",
   "name": "python",
   "nbconvert_exporter": "python",
   "pygments_lexer": "ipython3",
   "version": "3.6.10"
  }
 },
 "nbformat": 4,
 "nbformat_minor": 4
}
